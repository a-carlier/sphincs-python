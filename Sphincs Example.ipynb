{
 "cells": [
  {
   "cell_type": "markdown",
   "metadata": {},
   "source": [
    "# $SPHINCS^+$ Python : Example #\n",
    "\n",
    "### Importing $SPHINCS^+$ Class ###"
   ]
  },
  {
   "cell_type": "code",
   "execution_count": 1,
   "metadata": {},
   "outputs": [],
   "source": [
    "from package.sphincs import Sphincs"
   ]
  },
  {
   "cell_type": "markdown",
   "metadata": {},
   "source": [
    "### Instantiate a $SPHINCS^+$ Object and Setting parameters ###\n",
    "\n",
    "By default, $SPHINCS^+$ parameters are set like:\n",
    "   - Security Parameter: $n=16$\n",
    "   - Winternitz Parameter: $w=16$ (Should be set as 4, 16 or 256)\n",
    "   - Hypertree Height: $h=64$\n",
    "   - Hypertree Layers: $d=8$ ($d|h$)\n",
    "   - $FORS$ Trees Number: $k=10$\n",
    "   - $FORS$ Trees Height: $a=15$\n",
    "\n",
    "Changes must be done before keys generations, signing and verification"
   ]
  },
  {
   "cell_type": "code",
   "execution_count": 6,
   "metadata": {},
   "outputs": [],
   "source": [
    "sphincs = Sphincs()\n",
    "\n",
    "sphincs.set_winternitz(16)\n",
    "# Or\n",
    "sphincs.set_w(16)\n",
    "\n",
    "sphincs.set_hypertree_height(32)"
   ]
  },
  {
   "cell_type": "markdown",
   "metadata": {},
   "source": [
    "### Generating a Key Pair ### "
   ]
  },
  {
   "cell_type": "code",
   "execution_count": 7,
   "metadata": {},
   "outputs": [
    {
     "name": "stdout",
     "output_type": "stream",
     "text": [
      "Secret Key:  b\"f\\x9e'\\xb3N\\x07\\x8b\\xcc\\x99l?|\\x7f\\x05\\x88\\xed\\x03\\xa0\\xb0\\xb3\\xb7\\xfb9\\xa8\\x89F\\xecS5\\x07\\\\M3\\xe9\\xcf\\x8b\\xe8r@\\x97V\\xc2\\xe7\\xdd;\\\\(\\x8ax\\xe7\\xddW<$U\\\\\\xe8v}b\\xcfcx<\"\n",
      "\n",
      "Public Key:  b'3\\xe9\\xcf\\x8b\\xe8r@\\x97V\\xc2\\xe7\\xdd;\\\\(\\x8ax\\xe7\\xddW<$U\\\\\\xe8v}b\\xcfcx<'\n"
     ]
    }
   ],
   "source": [
    "sk, pk = sphincs.generate_key_pair()\n",
    "print(\"Secret Key: \", sk)\n",
    "print()\n",
    "print(\"Public Key: \", pk)"
   ]
  },
  {
   "cell_type": "markdown",
   "metadata": {},
   "source": [
    "### Signing a Message ###\n",
    "\n",
    "The message must be in a $bytes()$ format"
   ]
  },
  {
   "cell_type": "code",
   "execution_count": 14,
   "metadata": {},
   "outputs": [
    {
     "name": "stdout",
     "output_type": "stream",
     "text": [
      "Message to be signed:  b'No one knows the reason for all this, but it is probably quantum. - Pyramids, Terry Pratchett (1989)'\n"
     ]
    }
   ],
   "source": [
    "m = b\"No one knows the reason for all this, but it is probably quantum. - Pyramids, Terry Pratchett (1989)\"\n",
    "print(\"Message to be signed: \", m)"
   ]
  },
  {
   "cell_type": "code",
   "execution_count": 15,
   "metadata": {
    "scrolled": false
   },
   "outputs": [],
   "source": [
    "signature = sphincs.sign(m, sk)"
   ]
  },
  {
   "cell_type": "code",
   "execution_count": 16,
   "metadata": {},
   "outputs": [
    {
     "name": "stdout",
     "output_type": "stream",
     "text": [
      "Signature bytes-size:  7568\n"
     ]
    }
   ],
   "source": [
    "print(\"Signature bytes-size: \", len(signature))"
   ]
  },
  {
   "cell_type": "markdown",
   "metadata": {},
   "source": [
    "### Verifying a Signature associated with a Message ###"
   ]
  },
  {
   "cell_type": "code",
   "execution_count": 17,
   "metadata": {},
   "outputs": [
    {
     "name": "stdout",
     "output_type": "stream",
     "text": [
      "Is signature correct ?  True\n"
     ]
    }
   ],
   "source": [
    "print(\"Is signature correct ? \", sphincs.verify(signature, m, pk))"
   ]
  },
  {
   "cell_type": "code",
   "execution_count": null,
   "metadata": {},
   "outputs": [],
   "source": []
  }
 ],
 "metadata": {
  "kernelspec": {
   "display_name": "Python 3",
   "language": "python",
   "name": "python3"
  },
  "language_info": {
   "codemirror_mode": {
    "name": "ipython",
    "version": 3
   },
   "file_extension": ".py",
   "mimetype": "text/x-python",
   "name": "python",
   "nbconvert_exporter": "python",
   "pygments_lexer": "ipython3",
   "version": "3.7.5"
  }
 },
 "nbformat": 4,
 "nbformat_minor": 2
}
